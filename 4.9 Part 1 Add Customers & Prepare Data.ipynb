{
 "cells": [
  {
   "cell_type": "code",
   "execution_count": 6,
   "id": "79626cd0-6d66-44c6-8c2b-4138f7b9e1a1",
   "metadata": {},
   "outputs": [
    {
     "name": "stdout",
     "output_type": "stream",
     "text": [
      "(206209, 12)\n",
      "   user_id first name    surnam  gender       state  age date_joined  \\\n",
      "0    26711    Deborah  Esquivel  Female    Missouri   48    1/1/2017   \n",
      "1    33890   Patricia      Hart  Female  New Mexico   36    1/1/2017   \n",
      "2    65803    Kenneth    Farley    Male       Idaho   35    1/1/2017   \n",
      "3   125935   Michelle     Hicks  Female        Iowa   40    1/1/2017   \n",
      "4   130797        Ann   Gilmore  Female    Maryland   26    1/1/2017   \n",
      "\n",
      "   n_dependants fam_status  income state_usps   region  \n",
      "0             3    married  165665         MO  Midwest  \n",
      "1             0     single   59285         NM     West  \n",
      "2             2    married   99568         ID     West  \n",
      "3             0     single   42049         IA  Midwest  \n",
      "4             1    married   40374         MD    South  \n"
     ]
    }
   ],
   "source": [
    "import pandas as pd\n",
    "import os\n",
    "\n",
    "path = r'C:\\Users\\Neway\\OneDrive\\Desktop\\instacart Basket Analysis'\n",
    "\n",
    "# Load customers\n",
    "cust_path = os.path.join(path, '02 Data', 'Prepared Data', 'customers_enriched.csv')\n",
    "df_cust = pd.read_csv(cust_path)\n",
    "\n",
    "# Quick check\n",
    "print(df_cust.shape)\n",
    "print(df_cust.head())\n"
   ]
  },
  {
   "cell_type": "markdown",
   "id": "37dc9507-0a07-49e5-b0cd-807d07d26cc9",
   "metadata": {},
   "source": [
    "## 2 Wrangle customer "
   ]
  },
  {
   "cell_type": "code",
   "execution_count": 7,
   "id": "1c6fe5bd-d7d9-4bf8-bde6-5f208d4f13ea",
   "metadata": {},
   "outputs": [],
   "source": [
    "# Wrangle customers (fix column names)\n",
    "df_cust = df_cust.rename(columns={\n",
    "    'First Name': 'first_name',\n",
    "    'Surnam': 'surname',\n",
    "    'STATE': 'state',\n",
    "    'Age': 'age',\n",
    "    'fam_status': 'family_status'\n",
    "})\n",
    "\n",
    "df_cust['user_id'] = df_cust['user_id'].astype(str)\n"
   ]
  },
  {
   "cell_type": "code",
   "execution_count": 8,
   "id": "9838a90a-ae96-4fdb-ae66-19fef09ff94c",
   "metadata": {},
   "outputs": [
    {
     "ename": "NameError",
     "evalue": "name 'orders_products' is not defined",
     "output_type": "error",
     "traceback": [
      "\u001b[1;31m---------------------------------------------------------------------------\u001b[0m",
      "\u001b[1;31mNameError\u001b[0m                                 Traceback (most recent call last)",
      "Cell \u001b[1;32mIn[8], line 2\u001b[0m\n\u001b[0;32m      1\u001b[0m \u001b[38;5;66;03m# Merge with customers\u001b[39;00m\n\u001b[1;32m----> 2\u001b[0m merged \u001b[38;5;241m=\u001b[39m orders_products\u001b[38;5;241m.\u001b[39mmerge(df_cust, on\u001b[38;5;241m=\u001b[39m\u001b[38;5;124m'\u001b[39m\u001b[38;5;124muser_id\u001b[39m\u001b[38;5;124m'\u001b[39m, how\u001b[38;5;241m=\u001b[39m\u001b[38;5;124m'\u001b[39m\u001b[38;5;124minner\u001b[39m\u001b[38;5;124m'\u001b[39m)\n\u001b[0;32m      3\u001b[0m \u001b[38;5;28mprint\u001b[39m(\u001b[38;5;124m\"\u001b[39m\u001b[38;5;124mMerged shape:\u001b[39m\u001b[38;5;124m\"\u001b[39m, merged\u001b[38;5;241m.\u001b[39mshape)\n\u001b[0;32m      4\u001b[0m merged\u001b[38;5;241m.\u001b[39mhead()\n",
      "\u001b[1;31mNameError\u001b[0m: name 'orders_products' is not defined"
     ]
    }
   ],
   "source": [
    "# Merge with customers\n",
    "merged = orders_products.merge(df_cust, on='user_id', how='inner')\n",
    "print(\"Merged shape:\", merged.shape)\n",
    "merged.head()\n"
   ]
  },
  {
   "cell_type": "code",
   "execution_count": null,
   "id": "30c729ce-227e-4883-9aa7-9bb7a2989921",
   "metadata": {},
   "outputs": [],
   "source": []
  }
 ],
 "metadata": {
  "kernelspec": {
   "display_name": "Python 3 (ipykernel)",
   "language": "python",
   "name": "python3"
  },
  "language_info": {
   "codemirror_mode": {
    "name": "ipython",
    "version": 3
   },
   "file_extension": ".py",
   "mimetype": "text/x-python",
   "name": "python",
   "nbconvert_exporter": "python",
   "pygments_lexer": "ipython3",
   "version": "3.13.5"
  }
 },
 "nbformat": 4,
 "nbformat_minor": 5
}
