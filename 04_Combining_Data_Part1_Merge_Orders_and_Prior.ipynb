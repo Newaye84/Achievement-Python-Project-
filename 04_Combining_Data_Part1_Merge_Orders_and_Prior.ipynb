{
 "cells": [
  {
   "cell_type": "markdown",
   "id": "8f6e4414-05e0-4797-b692-15b67fd7ecdc",
   "metadata": {},
   "source": [
    "# Merging Instacart Data "
   ]
  },
  {
   "cell_type": "markdown",
   "id": "16a9bffc-a736-4d05-828d-10acfcdad8ca",
   "metadata": {},
   "source": [
    "# Instacart — Part 1: Merge `orders_wrangled` with `orders_products_prior`\n",
    "\n",
    "**Goal:** Create `orders_products_combined.pkl` by merging orders with prior order line-items.\n",
    "\n",
    "**Why:** Analyze all Instacart orders and their products in one place.\n",
    "\n",
    "**Inputs**\n",
    "- `02 Data/Prepared Data/orders_wrangled.csv`\n",
    "- `02 Data/Original Data/orders_products_prior.csv`  *(unzipped per exercise)*\n",
    "\n",
    "**Output**\n",
    "- `02 Data/Prepared Data/orders_products_combined.pkl`\n",
    "\n",
    "**Checklist**\n",
    "1. Load data\n",
    "2. Sanity checks (`head`, `shape`)\n",
    "3. Merge on `order_id` with `indicator=True`\n",
    "4. (One-time) coverage check with `how='outer'`\n",
    "5. Export as pickle\n"
   ]
  },
  {
   "cell_type": "code",
   "execution_count": 29,
   "id": "3c19cec5-d7d3-4b32-bb5f-21e58ae3c395",
   "metadata": {},
   "outputs": [],
   "source": [
    "import os, gc\n",
    "import pandas as pd\n",
    "\n",
    "\n",
    "path = r\"C:\\Users\\Neway\\OneDrive\\Desktop\\instacart Basket Analysis\"  \n",
    "\n",
    "assert os.path.isdir(path), f\"Path does not exist: {path}\"\n",
    "\n",
    "prepared_dir = os.path.join(path, '02 Data', 'Prepared Data')\n",
    "original_dir = os.path.join(path, '02 Data', 'Original Data')\n",
    "os.makedirs(prepared_dir, exist_ok=True)\n"
   ]
  },
  {
   "cell_type": "markdown",
   "id": "1a3c827b-c106-495f-987c-28fc6ac6167c",
   "metadata": {},
   "source": [
    "## Load data\n",
    "We use the prepared (cleaned) orders and the new prior line-items.\n"
   ]
  },
  {
   "cell_type": "code",
   "execution_count": 31,
   "id": "b10dfea5-9666-457d-a859-4410736a52bc",
   "metadata": {},
   "outputs": [
    {
     "data": {
      "text/plain": [
       "(   Unnamed: 0  order_id  user_id  order_number  orders_day_of_week  \\\n",
       " 0           0   2539329        1             1                   2   \n",
       " 1           1   2398795        1             2                   3   \n",
       " 2           2    473747        1             3                   3   \n",
       " \n",
       "    order_hour_of_day  days_since_prior_order  \n",
       " 0                  8                     NaN  \n",
       " 1                  7                    15.0  \n",
       " 2                 12                    21.0  ,\n",
       " (3421083, 7),\n",
       "    order_id  product_id  add_to_cart_order  reordered\n",
       " 0         2       33120                  1          1\n",
       " 1         2       28985                  2          1\n",
       " 2         2        9327                  3          0,\n",
       " (32434489, 4))"
      ]
     },
     "execution_count": 31,
     "metadata": {},
     "output_type": "execute_result"
    }
   ],
   "source": [
    "orders_file = os.path.join(prepared_dir, 'orders_wrangled.csv')\n",
    "prior_file  = os.path.join(original_dir, 'orders_products_prior.csv')\n",
    "\n",
    "df_ords = pd.read_csv(orders_file)\n",
    "df_ords_prior = pd.read_csv(prior_file)\n",
    "\n",
    "df_ords.head(3), df_ords.shape, df_ords_prior.head(3), df_ords_prior.shape\n"
   ]
  },
  {
   "cell_type": "markdown",
   "id": "527161c9-9e32-484f-85f7-2ab14548dde5",
   "metadata": {},
   "source": [
    "## Merge (inner join on `order_id`)\n",
    "We expect all rows in the result to exist in both inputs. We add `_merge` to inspect behavior.\n"
   ]
  },
  {
   "cell_type": "code",
   "execution_count": 33,
   "id": "425e0d36-af3c-420d-bf8b-07ba93013158",
   "metadata": {},
   "outputs": [
    {
     "data": {
      "text/plain": [
       "(   Unnamed: 0  order_id  user_id  order_number  orders_day_of_week  \\\n",
       " 0           0   2539329        1             1                   2   \n",
       " 1           0   2539329        1             1                   2   \n",
       " 2           0   2539329        1             1                   2   \n",
       " \n",
       "    order_hour_of_day  days_since_prior_order  product_id  add_to_cart_order  \\\n",
       " 0                  8                     NaN         196                  1   \n",
       " 1                  8                     NaN       14084                  2   \n",
       " 2                  8                     NaN       12427                  3   \n",
       " \n",
       "    reordered _merge  \n",
       " 0          0   both  \n",
       " 1          0   both  \n",
       " 2          0   both  ,\n",
       " (32434489, 11),\n",
       " _merge\n",
       " both          32434489\n",
       " left_only            0\n",
       " right_only           0\n",
       " Name: count, dtype: int64)"
      ]
     },
     "execution_count": 33,
     "metadata": {},
     "output_type": "execute_result"
    }
   ],
   "source": [
    "df_merged_large = df_ords.merge(\n",
    "    df_ords_prior,\n",
    "    on='order_id',\n",
    "    how='inner',\n",
    "    indicator=True\n",
    ")\n",
    "df_merged_large.head(3), df_merged_large.shape, df_merged_large['_merge'].value_counts()\n"
   ]
  },
  {
   "cell_type": "markdown",
   "id": "6afc796e-879d-43d8-8a60-fc1cf2573ff3",
   "metadata": {},
   "source": [
    "## 5 Coverage check (outer join test)\n",
    "Inner joins always show `_merge == both`. Run an **outer** test once to confirm true coverage.\n"
   ]
  },
  {
   "cell_type": "code",
   "execution_count": 34,
   "id": "504f3536-a042-498b-8905-1c60d68141b0",
   "metadata": {},
   "outputs": [
    {
     "data": {
      "text/plain": [
       "_merge\n",
       "both          3214874\n",
       "left_only      206209\n",
       "right_only          0\n",
       "Name: count, dtype: int64"
      ]
     },
     "execution_count": 34,
     "metadata": {},
     "output_type": "execute_result"
    }
   ],
   "source": [
    "coverage = pd.merge(\n",
    "    df_ords[['order_id']].drop_duplicates(),\n",
    "    df_ords_prior[['order_id']].drop_duplicates(),\n",
    "    on='order_id',\n",
    "    how='outer',\n",
    "    indicator=True\n",
    ")['_merge'].value_counts()\n",
    "\n",
    "coverage\n"
   ]
  },
  {
   "cell_type": "markdown",
   "id": "b4415cef-cae2-4cca-9d40-0c757343a080",
   "metadata": {},
   "source": [
    "# Inspect non-mathcing ids"
   ]
  },
  {
   "cell_type": "code",
   "execution_count": 36,
   "id": "6a01902b-8f72-4fbb-b24a-3753b3ab908f",
   "metadata": {},
   "outputs": [
    {
     "data": {
      "text/html": [
       "<div>\n",
       "<style scoped>\n",
       "    .dataframe tbody tr th:only-of-type {\n",
       "        vertical-align: middle;\n",
       "    }\n",
       "\n",
       "    .dataframe tbody tr th {\n",
       "        vertical-align: top;\n",
       "    }\n",
       "\n",
       "    .dataframe thead th {\n",
       "        text-align: right;\n",
       "    }\n",
       "</style>\n",
       "<table border=\"1\" class=\"dataframe\">\n",
       "  <thead>\n",
       "    <tr style=\"text-align: right;\">\n",
       "      <th></th>\n",
       "      <th>order_id</th>\n",
       "      <th>source_x</th>\n",
       "      <th>source_y</th>\n",
       "      <th>_merge</th>\n",
       "    </tr>\n",
       "  </thead>\n",
       "  <tbody>\n",
       "    <tr>\n",
       "      <th>0</th>\n",
       "      <td>1</td>\n",
       "      <td>orders</td>\n",
       "      <td>NaN</td>\n",
       "      <td>left_only</td>\n",
       "    </tr>\n",
       "    <tr>\n",
       "      <th>16</th>\n",
       "      <td>17</td>\n",
       "      <td>orders</td>\n",
       "      <td>NaN</td>\n",
       "      <td>left_only</td>\n",
       "    </tr>\n",
       "    <tr>\n",
       "      <th>33</th>\n",
       "      <td>34</td>\n",
       "      <td>orders</td>\n",
       "      <td>NaN</td>\n",
       "      <td>left_only</td>\n",
       "    </tr>\n",
       "    <tr>\n",
       "      <th>35</th>\n",
       "      <td>36</td>\n",
       "      <td>orders</td>\n",
       "      <td>NaN</td>\n",
       "      <td>left_only</td>\n",
       "    </tr>\n",
       "    <tr>\n",
       "      <th>37</th>\n",
       "      <td>38</td>\n",
       "      <td>orders</td>\n",
       "      <td>NaN</td>\n",
       "      <td>left_only</td>\n",
       "    </tr>\n",
       "  </tbody>\n",
       "</table>\n",
       "</div>"
      ],
      "text/plain": [
       "    order_id source_x source_y     _merge\n",
       "0          1   orders      NaN  left_only\n",
       "16        17   orders      NaN  left_only\n",
       "33        34   orders      NaN  left_only\n",
       "35        36   orders      NaN  left_only\n",
       "37        38   orders      NaN  left_only"
      ]
     },
     "execution_count": 36,
     "metadata": {},
     "output_type": "execute_result"
    }
   ],
   "source": [
    "outer_test = pd.merge(\n",
    "    df_ords[['order_id']].drop_duplicates().assign(source='orders'),\n",
    "    df_ords_prior[['order_id']].drop_duplicates().assign(source='prior'),\n",
    "    on='order_id',\n",
    "    how='outer',\n",
    "    indicator=True\n",
    ")\n",
    "outer_test.query(\"_merge != 'both'\").head()\n"
   ]
  },
  {
   "cell_type": "markdown",
   "id": "037bd9eb-e809-4055-bda3-4f31352a84f5",
   "metadata": {},
   "source": [
    "# 6 Export to pickle\n",
    "\n",
    "## Export\n",
    "We export as `.pkl` for speed and lossless round-trip.\n"
   ]
  },
  {
   "cell_type": "code",
   "execution_count": 37,
   "id": "ff22bee9-e4f0-4812-853e-2ab2dd62a044",
   "metadata": {},
   "outputs": [
    {
     "data": {
      "text/plain": [
       "'C:\\\\Users\\\\Neway\\\\OneDrive\\\\Desktop\\\\instacart Basket Analysis\\\\02 Data\\\\Prepared Data\\\\orders_products_combined.pkl'"
      ]
     },
     "execution_count": 37,
     "metadata": {},
     "output_type": "execute_result"
    }
   ],
   "source": [
    "out_pkl = os.path.join(prepared_dir, 'orders_products_combined.pkl')\n",
    "df_merged_large.to_pickle(out_pkl)\n",
    "\n",
    "# (Optional portability)\n",
    "# df_merged_large.to_csv(os.path.join(prepared_dir, 'orders_products_combined.csv'), index=False)\n",
    "\n",
    "del df_ords, df_ords_prior\n",
    "gc.collect()\n",
    "out_pkl\n"
   ]
  },
  {
   "cell_type": "code",
   "execution_count": null,
   "id": "66ca57e1-cf8f-4308-ab3e-323fa83d71b0",
   "metadata": {},
   "outputs": [],
   "source": []
  }
 ],
 "metadata": {
  "kernelspec": {
   "display_name": "Python 3 (ipykernel)",
   "language": "python",
   "name": "python3"
  },
  "language_info": {
   "codemirror_mode": {
    "name": "ipython",
    "version": 3
   },
   "file_extension": ".py",
   "mimetype": "text/x-python",
   "name": "python",
   "nbconvert_exporter": "python",
   "pygments_lexer": "ipython3",
   "version": "3.13.5"
  }
 },
 "nbformat": 4,
 "nbformat_minor": 5
}
