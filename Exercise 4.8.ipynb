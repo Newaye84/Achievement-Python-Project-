{
 "cells": [
  {
   "cell_type": "markdown",
   "id": "a2a93442-f359-4171-b829-916ac0805a0d",
   "metadata": {},
   "source": [
    "Import Libraries "
   ]
  },
  {
   "cell_type": "code",
   "execution_count": null,
   "id": "613bf9c3-496f-4eff-a7c4-2a586c977334",
   "metadata": {},
   "outputs": [],
   "source": [
    "# Importing Libraries\n",
    "import pandas as pd\n",
    "import numpy as np\n",
    "import os"
   ]
  },
  {
   "cell_type": "markdown",
   "id": "bbf6e1d5-21f6-4558-b188-e9b931f2f15b",
   "metadata": {},
   "source": [
    "Import Data files"
   ]
  },
  {
   "cell_type": "markdown",
   "id": "919c544f-6f9e-4cff-bc0e-639624163e40",
   "metadata": {},
   "source": [
    "# Creating path \n",
    "path = r'C:\\Users\\Neway\\OneDrive\\Desktop\\instacart Basket Analysis'"
   ]
  },
  {
   "cell_type": "code",
   "execution_count": null,
   "id": "d99082da-ad39-4078-9307-2cd734554150",
   "metadata": {},
   "outputs": [],
   "source": [
    "# Importing orders_products_merge_derived.pl file\n",
    "df_ords_prods_merge = pd.read_pickle(os.path.join(path, '02 Data' , 'Prepared Data' , 'orders_products_merged_derived.pkl'))\n"
   ]
  },
  {
   "cell_type": "code",
   "execution_count": null,
   "id": "c276c7cd-5aa5-4a5d-a5a3-172072434332",
   "metadata": {},
   "outputs": [],
   "source": [
    "# checking the shape of the dataframe\n",
    "df_ords_prods_merge.shape\n"
   ]
  },
  {
   "cell_type": "markdown",
   "id": "87e4a224-e1d3-4c74-b4a0-17a57565510b",
   "metadata": {},
   "source": [
    "Aggregated mean Calculation for Entire Dataframe "
   ]
  },
  {
   "cell_type": "markdown",
   "id": "147f8825-3869-4271-99c8-8899f41adffa",
   "metadata": {},
   "source": [
    "# Grouping by 'department_id' and 'order_number', and Calculating Mean using agg() Function\n",
    "df_ords_prods_merge.groupby('department_id').agg({'order_number' : ['mean']})"
   ]
  },
  {
   "cell_type": "markdown",
   "id": "b7f28450-d833-4c21-9e03-4e88e26554ae",
   "metadata": {},
   "source": [
    "Comparison Between Subset and Entire Dataframe\n",
    "\n",
    "General Patterns: The full dataframe shows higher average order numbers across departments overall, suggesting it reflects a wider spectrum of customer activity compared to the subset.\n",
    "\n",
    "Key Differences: Department 21 stands out in both datasets, but its mean is larger within the subset (25.53) than in the full dataset (22.90). Meanwhile, Department 10 shows a stronger effect in the full dataframe (20.19) versus the subset (18.68).\n",
    "\n",
    "Stable vs. Variable Results: Certain departments, such as 13 and 17, remain fairly consistent between the two, whereas others—like 3, 9, and 12—display more noticeable differences.\n",
    "\n",
    "Overall Takeaway: The complete dataframe highlights more frequent ordering behavior across departments, while the subset provides a narrower view with some departments appearing more exaggerated."
   ]
  },
  {
   "cell_type": "markdown",
   "id": "17d90c97-eb79-464d-88bb-1089a479ceff",
   "metadata": {},
   "source": [
    "Create a Loyalty flag "
   ]
  },
  {
   "cell_type": "code",
   "execution_count": null,
   "id": "3a472e92-9cdc-419e-a5ab-48aa0dc782d2",
   "metadata": {},
   "outputs": [],
   "source": [
    "# Aggregating Data with transform() Function\n",
    "df_ords_prods_merge['max_order'] = df_ords_prods_merge.groupby(['user_id'])['order_number'].transform(np.max)"
   ]
  },
  {
   "cell_type": "code",
   "execution_count": null,
   "id": "10bc7ae3-a0c6-44c9-8a38-692f17e8c2fb",
   "metadata": {},
   "outputs": [],
   "source": [
    "C:\\Users\\Neway\\AppData\\Local\\Temp\\ipykernel_18476\\3473307984.py:2: FutureWarning: The provided callable <function max at 0x0000019112EFC7C0> is currently using SeriesGroupBy.max. In a future version of pandas, the provided callable will be used directly. To keep current behavior pass the string \"max\" instead.\n",
    "  df_ords_prods_merge['max_order'] = df_ords_prods_merge.groupby(['user_id'])['order_number'].transform(np.max)"
   ]
  },
  {
   "cell_type": "code",
   "execution_count": null,
   "id": "6eb4dca8-47e6-4661-a626-5bdfecfc3be0",
   "metadata": {},
   "outputs": [],
   "source": [
    "# Checking the Output\n",
    "df_ords_prods_merge.head(15)"
   ]
  },
  {
   "cell_type": "code",
   "execution_count": null,
   "id": "2c89b8c2-009a-4c33-a240-71547a5ad233",
   "metadata": {},
   "outputs": [],
   "source": [
    "# Creating a 'Loyalty' Label Flag using loc Function\n",
    "df_ords_prods_merge.loc[df_ords_prods_merge['max_order'] > 40, 'loyalty_flag'] = 'Loyal customer'\n",
    "df_ords_prods_merge.loc[(df_ords_prods_merge['max_order'] <= 40) & (df_ords_prods_merge['max_order'] > 10), 'loyalty_flag'] = 'Regular customer'\n",
    "df_ords_prods_merge.loc[df_ords_prods_merge['max_order'] <= 10, 'loyalty_flag'] = 'New customer'"
   ]
  },
  {
   "cell_type": "code",
   "execution_count": null,
   "id": "c75bcf8a-49eb-4867-9711-b6dd1e44f8df",
   "metadata": {},
   "outputs": [],
   "source": [
    "# Examining Value Counts on 'loyalty_flag'\n",
    "df_ords_prods_merge['loyalty_flag'].value_counts(dropna = False)"
   ]
  },
  {
   "cell_type": "code",
   "execution_count": null,
   "id": "a47f25f7-bf92-466a-8826-8468ce67ffc3",
   "metadata": {},
   "outputs": [],
   "source": [
    "loyalty_flag\n",
    "Regular customer    15876776\n",
    "Loyal customer      10284093\n",
    "New customer         6243990\n",
    "Name: count, dtype: int64"
   ]
  },
  {
   "cell_type": "code",
   "execution_count": null,
   "id": "cc069866-d5b2-475f-904e-f27512a555e5",
   "metadata": {},
   "outputs": [],
   "source": [
    "# Checking the Updated Output\n",
    "df_ords_prods_merge.head(15)"
   ]
  },
  {
   "cell_type": "markdown",
   "id": "7eea47d4-2d9f-42ac-8793-ae0415b7aa25",
   "metadata": {},
   "source": [
    "Analyze Spending Habits by Loyalty Category "
   ]
  },
  {
   "cell_type": "code",
   "execution_count": null,
   "id": "d74d358d-f444-42b1-b591-5df1f4ef433f",
   "metadata": {},
   "outputs": [],
   "source": [
    "# Determining Basic Statistics of Spending Habits by Loyalty Category\n",
    "df_ords_prods_merge.groupby('loyalty_flag').agg({'prices' : ['mean', 'min', 'max']})"
   ]
  },
  {
   "cell_type": "markdown",
   "id": "2c0984ea-19da-4576-a73f-b2794b4cc800",
   "metadata": {},
   "source": [
    "Loyal customers generally buy less expensive products, averaging $10.39 per item. In contrast, new customers spend the most, with an average of $13.29, while regular customers sit between the two at $12.50. Across all groups, the lowest recorded price is $1.00, but the unusually high maximum of $99,999 points to potential outliers or data quality issues."
   ]
  },
  {
   "cell_type": "markdown",
   "id": "55d7c80f-8675-4e21-9bbd-c7849642b467",
   "metadata": {},
   "source": [
    "CREATE A SPENDING FLAG "
   ]
  },
  {
   "cell_type": "code",
   "execution_count": null,
   "id": "aae13e73-ebad-4760-a280-8b8ad0f26545",
   "metadata": {},
   "outputs": [],
   "source": [
    "# Aggregating Data with transform() Function\n",
    "df_ords_prods_merge['avg_product_price'] = df_ords_prods_merge.groupby(['user_id'])['prices'].transform(np.mean)"
   ]
  },
  {
   "cell_type": "code",
   "execution_count": null,
   "id": "cd993816-e8d2-482e-9f4d-60e8fa3a64a9",
   "metadata": {},
   "outputs": [],
   "source": [
    "C:\\Users\\Neway\\AppData\\Local\\Temp\\ipykernel_18476\\3473307984.py:2: FutureWarning: The provided callable <function max at 0x0000019112EFC7C0> is currently using SeriesGroupBy.max. In a future version of pandas, the provided callable will be used directly. To keep current behavior pass the string \"max\" instead.\n",
    "  df_ords_prods_merge['max_order'] = df_ords_prods_merge.groupby(['user_id'])['order_number'].transform(np.max)"
   ]
  },
  {
   "cell_type": "code",
   "execution_count": null,
   "id": "b40afb75-e54e-4a30-9be5-3aa42317b653",
   "metadata": {},
   "outputs": [],
   "source": [
    "# Checking Relevant Columns \n",
    "df_ords_prods_merge[['user_id', 'avg_product_price']].head(15)"
   ]
  },
  {
   "cell_type": "code",
   "execution_count": null,
   "id": "778c6e0a-b141-4b61-868f-b5a806fe7f6f",
   "metadata": {},
   "outputs": [],
   "source": [
    "# Creating a 'Spending' Label Flag using loc Function\n",
    "df_ords_prods_merge.loc[df_ords_prods_merge['avg_product_price'] >= 10, 'spending_flag'] = 'High spender'\n",
    "df_ords_prods_merge.loc[df_ords_prods_merge['avg_product_price'] < 10, 'spending_flag'] = 'Low spender'"
   ]
  },
  {
   "cell_type": "code",
   "execution_count": null,
   "id": "8f5e92a6-a0d3-40bf-9648-68af901a8ae7",
   "metadata": {},
   "outputs": [],
   "source": [
    "# Examining Value Count on 'spending_flag' Column\n",
    "df_ords_prods_merge['spending_flag'].value_counts(dropna = False)"
   ]
  },
  {
   "cell_type": "code",
   "execution_count": null,
   "id": "4fd16bf9-1cd5-451a-bb8c-16233fb360d5",
   "metadata": {},
   "outputs": [],
   "source": [
    "spending_flag\n",
    "Low spender     31770614\n",
    "High spender      634245\n",
    "Name: count, dtype: int64"
   ]
  },
  {
   "cell_type": "code",
   "execution_count": null,
   "id": "f1050b67-ba2e-4511-ad71-227552abedae",
   "metadata": {},
   "outputs": [],
   "source": [
    "# Checking Releavent Columns\n",
    "df_ords_prods_merge[['user_id', 'avg_product_price', 'spending_flag']].head(15)"
   ]
  },
  {
   "cell_type": "markdown",
   "id": "57663a1a-9584-4623-8791-fc68ff37d240",
   "metadata": {},
   "source": [
    "## Create an Order Frequency Flag"
   ]
  },
  {
   "cell_type": "code",
   "execution_count": null,
   "id": "f674b67e-564d-4ab2-85ea-9b74ed782c57",
   "metadata": {},
   "outputs": [],
   "source": [
    "# Aggregating Data with transform() Function\n",
    "df_ords_prods_merge['median_days_between_orders'] = df_ords_prods_merge.groupby(['user_id'])['days_since_prior_order'].transform(np.median)"
   ]
  },
  {
   "cell_type": "code",
   "execution_count": null,
   "id": "15381683-f5de-4d96-82f2-862b571f3577",
   "metadata": {},
   "outputs": [],
   "source": [
    "C:\\Users\\Neway\\AppData\\Local\\Temp\\ipykernel_18476\\3473307984.py:2: FutureWarning: The provided callable <function max at 0x0000019112EFC7C0> is currently using SeriesGroupBy.max. In a future version of pandas, the provided callable will be used directly. To keep current behavior pass the string \"max\" instead.\n",
    "  df_ords_prods_merge['max_order'] = df_ords_prods_merge.groupby(['user_id'])['order_number'].transform(np.max)"
   ]
  },
  {
   "cell_type": "code",
   "execution_count": null,
   "id": "225f3bcd-994a-4bc0-9f6f-c4495b250791",
   "metadata": {},
   "outputs": [],
   "source": [
    "# Checking Relevant Columns \n",
    "df_ords_prods_merge[['user_id', 'days_since_prior_order', 'median_days_between_orders']].head(15)"
   ]
  },
  {
   "cell_type": "code",
   "execution_count": null,
   "id": "d4eb3148-4c18-4faa-bead-0685499e5da8",
   "metadata": {},
   "outputs": [],
   "source": [
    "# Creating a 'Order Frequency' Label Flag using loc Function\n",
    "df_ords_prods_merge.loc[df_ords_prods_merge['median_days_between_orders'] > 20, 'order_frequency_flag'] = 'Non-frequent customer'\n",
    "df_ords_prods_merge.loc[(df_ords_prods_merge['median_days_between_orders'] <= 20) & (df_ords_prods_merge['median_days_between_orders'] > 10), 'order_frequency_flag'] = 'Regular customer'\n",
    "df_ords_prods_merge.loc[df_ords_prods_merge['median_days_between_orders'] <= 10, 'order_frequency_flag'] = 'Frequent customer'"
   ]
  },
  {
   "cell_type": "code",
   "execution_count": null,
   "id": "30a6a023-a577-4693-81e2-17c755df0ff6",
   "metadata": {},
   "outputs": [],
   "source": [
    "# Examining Value Counts on 'order_frequency_flag'\n",
    "df_ords_prods_merge['order_frequency_flag'].value_counts(dropna = False)"
   ]
  },
  {
   "cell_type": "code",
   "execution_count": null,
   "id": "a1b7ae7e-10a6-4b02-857e-80fb200a6f7f",
   "metadata": {},
   "outputs": [],
   "source": [
    "order_frequency_flag\n",
    "Frequent customer        21559853\n",
    "Regular customer          7208564\n",
    "Non-frequent customer     3636437\n",
    "NaN                             5\n",
    "Name: count, dtype: int64"
   ]
  },
  {
   "cell_type": "code",
   "execution_count": null,
   "id": "fbe1025f-6db2-4cbb-a4fc-33c8943ccbf1",
   "metadata": {},
   "outputs": [],
   "source": [
    "# Checking Relevant Columns of Updated Dataframe\n",
    "df_ords_prods_merge[['user_id', 'days_since_prior_order', 'median_days_between_orders', 'order_frequency_flag']].head(15)"
   ]
  },
  {
   "cell_type": "markdown",
   "id": "57b0eda0-ce8e-49df-bc4f-727f5bd9b522",
   "metadata": {},
   "source": [
    "## Export the Dataframe in pickle Format to the \"Prepared Data\" Folder"
   ]
  },
  {
   "cell_type": "code",
   "execution_count": null,
   "id": "d1e2ba23-10aa-4dd8-a155-d0b98f86f6c7",
   "metadata": {},
   "outputs": [],
   "source": [
    "# Exporting the Dataframe\n",
    "df_ords_prods_merge.to_pickle(os.path.join(path, '02 Data', 'Prepared Data', 'orders_products_merged_grouped.pkl'))"
   ]
  },
  {
   "cell_type": "code",
   "execution_count": null,
   "id": "935b6a1e-3c2c-4b5e-b61e-097d79bdebc7",
   "metadata": {},
   "outputs": [],
   "source": []
  }
 ],
 "metadata": {
  "kernelspec": {
   "display_name": "Python 3 (ipykernel)",
   "language": "python",
   "name": "python3"
  },
  "language_info": {
   "codemirror_mode": {
    "name": "ipython",
    "version": 3
   },
   "file_extension": ".py",
   "mimetype": "text/x-python",
   "name": "python",
   "nbconvert_exporter": "python",
   "pygments_lexer": "ipython3",
   "version": "3.13.5"
  }
 },
 "nbformat": 4,
 "nbformat_minor": 5
}
